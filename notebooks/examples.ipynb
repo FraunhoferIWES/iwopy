{
 "cells": [
  {
   "cell_type": "markdown",
   "metadata": {},
   "source": [
    "# Examples"
   ]
  },
  {
   "cell_type": "markdown",
   "metadata": {},
   "source": [
    "## Simple function minimization"
   ]
  },
  {
   "cell_type": "markdown",
   "metadata": {},
   "source": [
    "Let's minimize the following simple function:\n",
    "\n",
    "$$\n",
    "f(x, y) = (x - 3.6)^2 - 2 (y+1.1)^2\n",
    "$$\n",
    "\n",
    "The global minimum is obvious: $f=0$ for $x=3.6, y=-1.1$. We now want to find this minimum using `iwopy`, in a setup as follows:\n",
    "\n",
    "- Parameter bounds: $x, y \\in [-5,5]$\n",
    "- Unconstrained minimization\n",
    "- Gradient based optimizer [IPOPT](https://esa.github.io/pagmo2/docs/cpp/algorithms/ipopt.html) from [pygmo](https://esa.github.io/pygmo2/)\n",
    "- Analytical gradients\n",
    "\n",
    "The usage of finite difference gradients will be demonstrated directly after. We start by importing the required classes from the `iwopy` package:"
   ]
  },
  {
   "cell_type": "code",
   "execution_count": 1,
   "metadata": {},
   "outputs": [],
   "source": [
    "from iwopy import SimpleProblem, SimpleObjective\n",
    "from iwopy.interfaces.pygmo import Optimizer_pygmo"
   ]
  },
  {
   "cell_type": "markdown",
   "metadata": {},
   "source": [
    "The `SimpleProblem` will be instantiated with two float type variables `x` and `y` which will be passed on to all linked objectives and constraints. The `SimpleObjective` (and also the `SimpleConstraint` classes assume the same variables as the problem, in the same order. We can therefore implement the above function $f(x, y)$ and the derivative \n",
    "$$\n",
    "g(v, x, y) = \\left\\{ \n",
    "\\begin{array}{ll}\n",
    "\\mathrm df / \\mathrm dx \\ ,& \\text{if} \\ v = 0 \\\\\n",
    "\\mathrm df / \\mathrm dy \\ ,& \\text{if} \\ v = 1\n",
    "\\end{array}\n",
    "\\right.\n",
    "$$ \n",
    "in a straight forward manner:"
   ]
  },
  {
   "cell_type": "code",
   "execution_count": 2,
   "metadata": {},
   "outputs": [],
   "source": [
    "class MinFunc(SimpleObjective):\n",
    "    def f(self, x, y):\n",
    "        return (x - 3.6) ** 2 + 2 * (y + 1.1) ** 2\n",
    "\n",
    "    def g(self, v, x, y, components):\n",
    "        return 2 * (x - 3.6) if v == 0 else 4 * (y + 1.1)"
   ]
  },
  {
   "cell_type": "markdown",
   "metadata": {},
   "source": [
    "Notice that the `components` argument of the function `g` is not used here since `f` is a single-component function.\n",
    "\n",
    "Otherwise, the parameter `n_components` has to be passed to the `__init__` function of `SimpleObjective`, and `f` has to return a list of scalars. In that case also `g` has to return a list of results, with same length as the requested `components`. The same rules apply to classes derived from `SimpleConstraint`.\n",
    "\n",
    "We can now proceed and setup the problem:"
   ]
  },
  {
   "cell_type": "code",
   "execution_count": 3,
   "metadata": {
    "scrolled": true
   },
   "outputs": [
    {
     "name": "stdout",
     "output_type": "stream",
     "text": [
      "Problem 'minf' (SimpleProblem): Initializing\n",
      "--------------------------------------------\n",
      "  n_vars_int   : 0\n",
      "  n_vars_float : 2\n",
      "--------------------------------------------\n",
      "  n_objectives : 1\n",
      "  n_obj_cmptns : 1\n",
      "--------------------------------------------\n",
      "  n_constraints: 0\n",
      "  n_con_cmptns : 0\n",
      "--------------------------------------------\n"
     ]
    }
   ],
   "source": [
    "problem = SimpleProblem(\n",
    "    name=\"minf\",\n",
    "    float_vars=[\"x\", \"y\"],\n",
    "    init_values_float=[0.0, 0.0],\n",
    "    min_values_float=[-5.0, -5.0],\n",
    "    max_values_float=[5.0, 5.0],\n",
    ")\n",
    "problem.add_objective(MinFunc(problem))\n",
    "problem.initialize()"
   ]
  },
  {
   "cell_type": "markdown",
   "metadata": {},
   "source": [
    "Note that in a similar way you can easily add constraints to the problem, by defining them in a class that is derived from `iwopy.Constraint` or `iwopy.SimpleConstraint` and then adding them via `problem.add_constraint(...)`. \n",
    "\n",
    "Adding additional objectives works in the same way, simply repeat `problem.add_objective(...)` as often as you want. However, be aware that not all optimizers can handle multiple objective cases.\n",
    "\n",
    "Next, we create and initialize the solver:"
   ]
  },
  {
   "cell_type": "code",
   "execution_count": 4,
   "metadata": {},
   "outputs": [
    {
     "name": "stdout",
     "output_type": "stream",
     "text": [
      "\n",
      "Algorithm name: Ipopt: Interior Point Optimization [deterministic]\n",
      "\tC++ class name: pagmo::ipopt\n",
      "\n",
      "\tThread safety: none\n",
      "\n",
      "Extra info:\n",
      "\tLast optimisation return code: Solve_Succeeded (value = 0)\n",
      "\tVerbosity: 1\n",
      "\tIndividual selection policy: best\n",
      "\tIndividual replacement policy: best\n",
      "\tNumeric options: {tol : 0.0001}\n",
      "\n"
     ]
    }
   ],
   "source": [
    "solver = Optimizer_pygmo(\n",
    "    problem,\n",
    "    problem_pars=dict(c_tol=1e-3),\n",
    "    algo_pars=dict(type=\"ipopt\", tol=1e-4),\n",
    ")\n",
    "solver.initialize()\n",
    "solver.print_info()"
   ]
  },
  {
   "cell_type": "markdown",
   "metadata": {},
   "source": [
    "Ok, we are now ready - let's solve the problem!"
   ]
  },
  {
   "cell_type": "code",
   "execution_count": 5,
   "metadata": {
    "scrolled": true
   },
   "outputs": [
    {
     "name": "stdout",
     "output_type": "stream",
     "text": [
      "\n",
      "******************************************************************************\n",
      "This program contains Ipopt, a library for large-scale nonlinear optimization.\n",
      " Ipopt is released as open source code under the Eclipse Public License (EPL).\n",
      "         For more information visit http://projects.coin-or.org/Ipopt\n",
      "******************************************************************************\n",
      "\n",
      "\n",
      " objevals:        objval:      violated:    viol. norm:\n",
      "         1          15.38              0              0\n",
      "         2        9.23375              0              0\n",
      "         3        9.23375              0              0\n",
      "         4        9.23375              0              0\n",
      "         5        9.23375              0              0\n",
      "         6        9.23375              0              0\n",
      "         7        1.60594              0              0\n",
      "         8      0.0440281              0              0\n",
      "         9     0.00157443              0              0\n",
      "        10    1.35988e-06              0              0\n",
      "\n",
      "Problem name: minf\n",
      "\tC++ class name: pybind11::object\n",
      "\n",
      "\tGlobal dimension:\t\t\t2\n",
      "\tInteger dimension:\t\t\t0\n",
      "\tFitness dimension:\t\t\t1\n",
      "\tNumber of objectives:\t\t\t1\n",
      "\tEquality constraints dimension:\t\t0\n",
      "\tInequality constraints dimension:\t0\n",
      "\tLower bounds: [-5, -5]\n",
      "\tUpper bounds: [5, 5]\n",
      "\tHas batch fitness evaluation: false\n",
      "\n",
      "\tHas gradient: true\n",
      "\tUser implemented gradient sparsity: true\n",
      "\tExpected gradients: 2\n",
      "\tHas hessians: false\n",
      "\tUser implemented hessians sparsity: false\n",
      "\n",
      "\tFitness evaluations: 14\n",
      "\tGradient evaluations: 7\n",
      "\n",
      "\tThread safety: none\n",
      "\n",
      "Population size: 1\n",
      "\n",
      "List of individuals: \n",
      "#0:\n",
      "\tID:\t\t\t11748363539413412497\n",
      "\tDecision vector:\t[3.6, -1.1]\n",
      "\tFitness vector:\t\t[1.28522e-12]\n",
      "\n",
      "Champion decision vector: [3.6, -1.1]\n",
      "Champion fitness: [1.28522e-12]\n",
      "\n",
      "\n",
      "\n",
      "Optimizer_pygmo: Optimization run finished\n",
      "  Success: True\n",
      "  Best f = 1.2852212531163044e-12\n",
      "        11    1.28522e-12              0              0\n"
     ]
    }
   ],
   "source": [
    "results = solver.solve()\n",
    "solver.finalize(results)"
   ]
  },
  {
   "cell_type": "code",
   "execution_count": 6,
   "metadata": {},
   "outputs": [
    {
     "name": "stdout",
     "output_type": "stream",
     "text": [
      "x,y = [ 3.59999901 -1.10000039]\n",
      "f = 1.2852212531163044e-12\n"
     ]
    }
   ],
   "source": [
    "print(\"x,y =\", results.vars_float)\n",
    "print(\"f =\", results.objs[0])"
   ]
  },
  {
   "cell_type": "markdown",
   "metadata": {},
   "source": [
    "Next, we want to explore finite difference gradient calculations for the same example. We can either remove the function `g(v, x, y, components)` from the `MinFunc` class, or create it invoking the parameter `has_ana_derivs=False`. This will then ignore the analytical gradient definition in the class.\n",
    "\n",
    "Additionally, we need to wrap the problem into the `DiscretizeRegGrid` problem wrapper and set the grid step size and the order of finite difference derivative calculations. This is the code for doing so:"
   ]
  },
  {
   "cell_type": "code",
   "execution_count": 7,
   "metadata": {},
   "outputs": [],
   "source": [
    "from iwopy import DiscretizeRegGrid"
   ]
  },
  {
   "cell_type": "code",
   "execution_count": 8,
   "metadata": {},
   "outputs": [],
   "source": [
    "problem = SimpleProblem(\n",
    "    name=\"minf\",\n",
    "    float_vars=[\"x\", \"y\"],\n",
    "    init_values_float=[0.0, 0.0],\n",
    "    min_values_float=[-5.0, -5.0],\n",
    "    max_values_float=[5.0, 5.0],\n",
    ")\n",
    "problem.add_objective(MinFunc(problem, has_ana_derivs=False))"
   ]
  },
  {
   "cell_type": "code",
   "execution_count": 9,
   "metadata": {
    "scrolled": true
   },
   "outputs": [],
   "source": [
    "gproblem = DiscretizeRegGrid(problem, deltas={\"x\": 0.01, \"y\": 0.01}, fd_order=2)\n",
    "gproblem.initialize()"
   ]
  },
  {
   "cell_type": "markdown",
   "metadata": {},
   "source": [
    "The `gproblem` object is now the `problem` on a grid, defined by the variable bounds and the specified `deltas`. We can use the same gradient based solver as above for solving this problem:"
   ]
  },
  {
   "cell_type": "code",
   "execution_count": 10,
   "metadata": {},
   "outputs": [
    {
     "name": "stdout",
     "output_type": "stream",
     "text": [
      "\n",
      "Optimisation return status: Solve_Succeeded (value = 0)\n",
      "\n",
      " objevals:        objval:      violated:    viol. norm:\n",
      "         1          15.38              0              0\n",
      "         2         9.2338              0              0\n",
      "         3         9.2338              0              0\n",
      "         4         9.2338              0              0\n",
      "         5         9.2338              0              0\n",
      "         6         9.2338              0              0\n",
      "         7          1.606              0              0\n",
      "         8      0.0440738              0              0\n",
      "         9     0.00159727              0              0\n",
      "        10    1.27606e-05              0              0\n",
      "\n",
      "Problem name: minf_grid\n",
      "\tC++ class name: pybind11::object\n",
      "\n",
      "\tGlobal dimension:\t\t\t2\n",
      "\tInteger dimension:\t\t\t0\n",
      "\tFitness dimension:\t\t\t1\n",
      "\tNumber of objectives:\t\t\t1\n",
      "\tEquality constraints dimension:\t\t0\n",
      "\tInequality constraints dimension:\t0\n",
      "\tLower bounds: [-5, -5]\n",
      "\tUpper bounds: [5, 5]\n",
      "\tHas batch fitness evaluation: false\n",
      "\n",
      "\tHas gradient: true\n",
      "\tUser implemented gradient sparsity: true\n",
      "\tExpected gradients: 2\n",
      "\tHas hessians: false\n",
      "\tUser implemented hessians sparsity: false\n",
      "\n",
      "\tFitness evaluations: 14\n",
      "\tGradient evaluations: 7\n",
      "\n",
      "\tThread safety: none\n",
      "\n",
      "Population size: 1\n",
      "\n",
      "List of individuals: \n",
      "#0:\n",
      "\tID:\t\t\t4556492627585249819\n",
      "\tDecision vector:\t[3.6, -1.1]\n",
      "\tFitness vector:\t\t[1.77386e-08]\n",
      "\n",
      "Champion decision vector: [3.6, -1.1]\n",
      "Champion fitness: [1.77386e-08]\n",
      "\n",
      "\n",
      "\n",
      "Optimizer_pygmo: Optimization run finished\n",
      "  Success: True\n",
      "  Best f = 1.2852212529252677e-12\n",
      "        11    1.77386e-08              0              0\n"
     ]
    }
   ],
   "source": [
    "solver = Optimizer_pygmo(\n",
    "    gproblem,\n",
    "    problem_pars=dict(c_tol=1e-3),\n",
    "    algo_pars=dict(type=\"ipopt\", tol=1e-4),\n",
    ")\n",
    "solver.initialize()\n",
    "\n",
    "results = solver.solve()\n",
    "solver.finalize(results)"
   ]
  },
  {
   "cell_type": "code",
   "execution_count": 11,
   "metadata": {},
   "outputs": [
    {
     "name": "stdout",
     "output_type": "stream",
     "text": [
      "x,y = [ 3.59999901 -1.10000039]\n",
      "f = 1.2852212529252677e-12\n"
     ]
    }
   ],
   "source": [
    "print(\"x,y =\", results.vars_float)\n",
    "print(\"f =\", results.objs[0])"
   ]
  },
  {
   "cell_type": "markdown",
   "metadata": {},
   "source": [
    "## Electrostatic potential minimization"
   ]
  },
  {
   "cell_type": "markdown",
   "metadata": {},
   "source": [
    "The main purpose of `iwopy` is to be helpful when attacking more complicated optimization tasks than the minimization of simple analytical functions as above. As an example, we consider the minimization of an inverse distance type potential for a fully coupled system of $N$ particles in two dimensions. We can imagine such a system to be composed of $N$ individual point charges, each of them carrying the same electric unit charge. The potential that we want to minimize is then represented by\n",
    "$$\n",
    "V = \\sum_{i\\neq j} \\frac 1 {|\\mathrm r_i - \\mathrm r_j|} \\ , \\quad \\text{where} \\quad \\mathrm r_i = \\left( \\begin{array}{c} x_i \\\\ y_i \\end{array} \\right)\n",
    "$$\n",
    "denotes the two dimensional position vector of charge $i$ and the sum is over all unequal index pairs. This potential favours large distances between charges, hence we need to constrain them to a certain area for a meaningful solution. We confine them to a circle of radius $R$ by imposing $N$ constraints,\n",
    "$$\n",
    "|\\mathrm r_i| \\leq R \\ , \\quad \\text{for all} \\quad i = 0 \\ldots N-1 \\ .\n",
    "$$\n",
    "These are the required imports for this example:"
   ]
  },
  {
   "cell_type": "code",
   "execution_count": 12,
   "metadata": {},
   "outputs": [],
   "source": [
    "import numpy as np\n",
    "import matplotlib.pyplot as plt\n",
    "from iwopy import Problem, Objective, Constraint\n",
    "from iwopy.interfaces.pymoo import Optimizer_pymoo"
   ]
  },
  {
   "cell_type": "markdown",
   "metadata": {},
   "source": [
    "We start by creating a specific class that describes the variables of our problem:"
   ]
  },
  {
   "cell_type": "code",
   "execution_count": 20,
   "metadata": {},
   "outputs": [],
   "source": [
    "class ChargesProblem(Problem):\n",
    "    def __init__(self, xy_init, radius):\n",
    "        super().__init__(name=\"charges_problem\")\n",
    "        self.xy_init = xy_init\n",
    "        self.n_charges = len(xy_init)\n",
    "        self.radius = radius\n",
    "\n",
    "    def var_names_float(self):\n",
    "        \"\"\"Defines the variable names\"\"\"\n",
    "        vnames = []\n",
    "        for i in range(self.n_charges):\n",
    "            vnames += [f\"x{i}\", f\"y{i}\"]\n",
    "        return vnames\n",
    "\n",
    "    def initial_values_float(self):\n",
    "        \"\"\"Returns inital values, as given to constructor\"\"\"\n",
    "        return self.xy_init.reshape(2 * self.n_charges)\n",
    "\n",
    "    def min_values_float(self):\n",
    "        \"\"\"Minimal values for a square of size 2*radius\"\"\"\n",
    "        return np.full(2 * self.n_charges, -self.radius)\n",
    "\n",
    "    def max_values_float(self):\n",
    "        \"\"\"Maximal values for a square of size 2*radius\"\"\"\n",
    "        return np.full(2 * self.n_charges, self.radius)\n",
    "\n",
    "    def apply_individual(self, vars_int, vars_float):\n",
    "        \"\"\"Returns (x, y) variables for each charge\"\"\"\n",
    "        return vars_float.reshape(self.n_charges, 2)\n",
    "\n",
    "    def apply_population(self, vars_int, vars_float):\n",
    "        \"\"\"Returns (x, y) variables for each charge per individual\"\"\"\n",
    "        n_pop = len(vars_float)\n",
    "        return vars_float.reshape(n_pop, self.n_charges, 2)\n",
    "\n",
    "    def get_fig(self, xy):\n",
    "        \"\"\"Get a figure showing the charges locations\"\"\"\n",
    "        fig, ax = plt.subplots(figsize=(6, 6))\n",
    "        ax.scatter(xy[:, 0], xy[:, 1], color=\"orange\")\n",
    "        ax.add_patch(plt.Circle((0, 0), self.radius, color=\"darkred\", fill=False))\n",
    "        ax.set_aspect(\"equal\", adjustable=\"box\")\n",
    "        ax.set_xlabel(\"x\")\n",
    "        ax.set_ylabel(\"y\")\n",
    "        ax.set_title(f\"N = {self.n_charges}\")\n",
    "        return fig"
   ]
  },
  {
   "cell_type": "markdown",
   "metadata": {},
   "source": [
    "There are $2 N$ variables for this problem, and we order them as $(x_0, y_0, \\ldots, x_{N-1}, y_{N-1})$. This is convenient, since the numpy reshaping operation `vars_float.reshape(n_charges, 2)` then represents an array of $(x_i, y_i)$ type arrays, which is handy for calculations.\n",
    "\n",
    "Notice the two functions `apply_individual` and `apply_population`. They are being called during optimization whenever new variables are being set by the optimizer, and their purpose is to update the data in the problem class accordingly (excluding objectives and constraints, which we will deal with shortly).\n",
    "\n",
    "The difference between the two functions is that `apply_individual` evaluates a single vector of new problem variables, whereas `apply_population` handles a full population of such vectors. The implementation of the latter function is not strictly required (alternatively a loop over individuals of the population will be evaluated), but it provides a chance for a vast speed-up by vectorized evaluation. This is particularly beneficial for genetic algorithms or other easily vectorizable approaches (in fact also the gradient calculation via `iwopy` discretizations makes use of this vectorization). Of course the chosen optimizer must be able to support vectorized evaluation for this to work. Both functions return any kind of evaluation data which will be forwarded to the objective and constraint evaluation.\n",
    "\n",
    "So far we have only defined the problem variables. Objectives and constraints can be added to the problem via the `add_objective` and `add_constraint` functions, respectively. First, we implement the inverse distance potential as our objective:"
   ]
  },
  {
   "cell_type": "code",
   "execution_count": 21,
   "metadata": {},
   "outputs": [],
   "source": [
    "class MinPotential(Objective):\n",
    "    def __init__(self, problem):\n",
    "        \"\"\"Define the same variable names and ordering as in the problem\"\"\"\n",
    "        super().__init__(problem, \"potential\", vnames_float=problem.var_names_float())\n",
    "        self.n_charges = problem.n_charges\n",
    "\n",
    "    def n_components(self):\n",
    "        \"\"\"The potential is a scalar function, hence one component\"\"\"\n",
    "        return 1\n",
    "\n",
    "    def maximize(self):\n",
    "        \"\"\"Indicates that the single component is to be minimized\"\"\"\n",
    "        return [False]\n",
    "\n",
    "    def calc_individual(self, vars_int, vars_float, problem_results):\n",
    "        \"\"\"This evaluates the potential. See problem.apply_individual\n",
    "        for problem results\"\"\"\n",
    "        xy = problem_results\n",
    "        value = 0.0\n",
    "        for i in range(1, self.n_charges):\n",
    "            value += 2 * np.sum(1 / np.linalg.norm(xy[i - 1, None] - xy[i:], axis=-1))\n",
    "        return value\n",
    "\n",
    "    def calc_population(self, vars_int, vars_float, problem_results):\n",
    "        \"\"\"This evaluates the potential in vectorized manner.\n",
    "        See problem.apply_population for problem results\"\"\"\n",
    "        xy = problem_results\n",
    "        n_pop = len(xy)\n",
    "        value = np.zeros((n_pop, 1))\n",
    "        for i in range(1, self.n_charges):\n",
    "            value[:, 0] += 2 * np.sum(\n",
    "                1 / np.linalg.norm(xy[:, i - 1, None] - xy[:, i:], axis=-1), axis=1\n",
    "            )\n",
    "        return value"
   ]
  },
  {
   "cell_type": "markdown",
   "metadata": {},
   "source": [
    "Notice that the functions `calc_individual` and its (again optional) vectorized correspondent `calc_population` do not directly make use of the variables vector `vars_float`, which they could (and it would be perfectly fine, even intended), but instead of the `problem_results` provided by the problem functions `apply_individual` and `apply_population`.\n",
    "\n",
    "Next, we implement the $N$ radial constraints:"
   ]
  },
  {
   "cell_type": "code",
   "execution_count": 22,
   "metadata": {},
   "outputs": [],
   "source": [
    "class MaxRadius(Constraint):\n",
    "    def __init__(self, problem, tol=1e-4):\n",
    "        \"\"\"Define the same variable names and ordering as in the problem\"\"\"\n",
    "        super().__init__(\n",
    "            problem, \"radius\", vnames_float=problem.var_names_float(), tol=tol\n",
    "        )\n",
    "        self.n_charges = problem.n_charges\n",
    "        self.radius = problem.radius\n",
    "\n",
    "    def n_components(self):\n",
    "        \"\"\"One constraint per charge\"\"\"\n",
    "        return self.n_charges\n",
    "\n",
    "    def vardeps_float(self):\n",
    "        \"\"\"Boolean array that defines which component depends\n",
    "        on which variable (optional, default is on all)\"\"\"\n",
    "        deps = np.zeros((self.n_components(), self.n_charges, 2), dtype=bool)\n",
    "        np.fill_diagonal(deps[..., 0], True)\n",
    "        np.fill_diagonal(deps[..., 1], True)\n",
    "        return deps.reshape(self.n_components(), 2 * self.n_charges)\n",
    "\n",
    "    def calc_individual(self, vars_int, vars_float, problem_results):\n",
    "        \"\"\"This evaluates the constraints, negative values are valid.\n",
    "        See problem.apply_individual for problem results\"\"\"\n",
    "        xy = problem_results\n",
    "        r = np.linalg.norm(xy, axis=-1)\n",
    "        return r - self.radius\n",
    "\n",
    "    def calc_population(self, vars_int, vars_float, problem_results):\n",
    "        \"\"\"This evaluates the constraints in vectorized manner,\n",
    "        negative values are valid. See problem.apply_population for\n",
    "        problem results\"\"\"\n",
    "        xy = problem_results\n",
    "        r = np.linalg.norm(xy, axis=-1)\n",
    "        return r - self.radius"
   ]
  },
  {
   "cell_type": "markdown",
   "metadata": {},
   "source": [
    "Note that by default, negative constraint values represent validity. This can be changed by overloading the function `get_bounds` of the base class, see API, but is not recommended.\n",
    "\n",
    "Also note that the function `vardeps_float` is only relevant for gradient based solvers that support gradient sparsity (e.g. `pygmo.ipopt`). It is irrelevant for the genetic algorithm that we want to use in this example, but added for the sake of completeness.\n",
    "\n",
    "Now let's add the objective and the constraints and initialize the problem:"
   ]
  },
  {
   "cell_type": "code",
   "execution_count": 23,
   "metadata": {},
   "outputs": [
    {
     "name": "stdout",
     "output_type": "stream",
     "text": [
      "Problem 'charges_problem' (ChargesProblem): Initializing\n",
      "--------------------------------------------------------\n",
      "  n_vars_int   : 0\n",
      "  n_vars_float : 40\n",
      "--------------------------------------------------------\n",
      "  n_objectives : 1\n",
      "  n_obj_cmptns : 1\n",
      "--------------------------------------------------------\n",
      "  n_constraints: 1\n",
      "  n_con_cmptns : 20\n",
      "--------------------------------------------------------\n"
     ]
    },
    {
     "data": {
      "image/png": "[encoded data removed]",
      "text/plain": [
       "<Figure size 432x432 with 1 Axes>"
      ]
     },
     "metadata": {
      "needs_background": "light"
     },
     "output_type": "display_data"
    }
   ],
   "source": [
    "N = 20\n",
    "R = 5\n",
    "\n",
    "# generate random initial coordinates of the N charges:\n",
    "xy = np.random.uniform(-R / 10.0, R / 10.0, (N, 2))\n",
    "\n",
    "problem = ChargesProblem(xy, R)\n",
    "problem.add_objective(MinPotential(problem))\n",
    "problem.add_constraint(MaxRadius(problem))\n",
    "problem.initialize()\n",
    "\n",
    "fig = problem.get_fig(xy)\n",
    "plt.show()"
   ]
  },
  {
   "cell_type": "markdown",
   "metadata": {},
   "source": [
    "Finally, we can now setup the genetic solver [GA from pymoo](https://pymoo.org/algorithms/soo/ga.html) and solve the problem, here in vectorized form (flag `vectorize=True`):"
   ]
  },
  {
   "cell_type": "code",
   "execution_count": 29,
   "metadata": {},
   "outputs": [
    {
     "name": "stdout",
     "output_type": "stream",
     "text": [
      "Initializing Optimizer_pymoo\n",
      "Selecting sampling: float_random (FloatRandomSampling)\n",
      "Selecting algorithm: ga (GA)\n",
      "Selecting termination: default (DefaultSingleObjectiveTermination)\n",
      "\n",
      "Problem:\n",
      "--------\n",
      "  vectorize: True\n",
      "\n",
      "Algorithm:\n",
      "----------\n",
      "  type: ga\n",
      "  pop_size: 100\n",
      "\n",
      "Termination:\n",
      "------------\n",
      "  n_max_gen: 300\n",
      "  ftol: 1e-06\n",
      "  xtol: 1e-06\n",
      "\n",
      "=================================================================================\n",
      "n_gen  |  n_eval  |     cv_min    |     cv_avg    |     f_avg     |     f_min    \n",
      "=================================================================================\n",
      "     1 |      100 |  0.1365380241 |  2.8337415126 |             - |             -\n",
      "     2 |      200 |  0.1365380241 |  1.4117949953 |             - |             -\n",
      "     3 |      300 |  0.000000E+00 |  0.7718240837 |  1.212041E+02 |  1.082417E+02\n",
      "     4 |      400 |  0.000000E+00 |  0.3591450986 |  1.386523E+02 |  1.082417E+02\n",
      "     5 |      500 |  0.000000E+00 |  0.1100288403 |  1.390935E+02 |  1.082417E+02\n",
      "     6 |      600 |  0.000000E+00 |  0.0061839012 |  1.383816E+02 |  1.052043E+02\n",
      "     7 |      700 |  0.000000E+00 |  0.000000E+00 |  1.312116E+02 |  1.052043E+02\n",
      "     8 |      800 |  0.000000E+00 |  0.000000E+00 |  1.261307E+02 |  1.052043E+02\n",
      "     9 |      900 |  0.000000E+00 |  0.000000E+00 |  1.223824E+02 |  1.052043E+02\n",
      "    10 |     1000 |  0.000000E+00 |  0.000000E+00 |  1.194595E+02 |  1.052043E+02\n",
      "    11 |     1100 |  0.000000E+00 |  0.000000E+00 |  1.169756E+02 |  1.034536E+02\n",
      "    12 |     1200 |  0.000000E+00 |  0.000000E+00 |  1.134267E+02 |  1.017973E+02\n",
      "    13 |     1300 |  0.000000E+00 |  0.000000E+00 |  1.102751E+02 |  1.017973E+02\n",
      "    14 |     1400 |  0.000000E+00 |  0.000000E+00 |  1.073478E+02 |  1.004969E+02\n",
      "    15 |     1500 |  0.000000E+00 |  0.000000E+00 |  1.052871E+02 |  1.004969E+02\n",
      "    16 |     1600 |  0.000000E+00 |  0.000000E+00 |  1.037077E+02 |  1.003294E+02\n",
      "    17 |     1700 |  0.000000E+00 |  0.000000E+00 |  1.025959E+02 |  9.942673E+01\n",
      "    18 |     1800 |  0.000000E+00 |  0.000000E+00 |  1.014978E+02 |  9.841033E+01\n",
      "    19 |     1900 |  0.000000E+00 |  0.000000E+00 |  1.003843E+02 |  9.707493E+01\n",
      "    20 |     2000 |  0.000000E+00 |  0.000000E+00 |  9.949022E+01 |  9.672548E+01\n",
      "    21 |     2100 |  0.000000E+00 |  0.000000E+00 |  9.883053E+01 |  9.545339E+01\n",
      "    22 |     2200 |  0.000000E+00 |  0.000000E+00 |  9.788962E+01 |  9.485189E+01\n",
      "    23 |     2300 |  0.000000E+00 |  0.000000E+00 |  9.712525E+01 |  9.454461E+01\n",
      "    24 |     2400 |  0.000000E+00 |  0.000000E+00 |  9.647287E+01 |  9.391272E+01\n",
      "    25 |     2500 |  0.000000E+00 |  0.000000E+00 |  9.586304E+01 |  9.391272E+01\n",
      "    26 |     2600 |  0.000000E+00 |  0.000000E+00 |  9.517846E+01 |  9.217084E+01\n",
      "    27 |     2700 |  0.000000E+00 |  0.000000E+00 |  9.457996E+01 |  9.211958E+01\n",
      "    28 |     2800 |  0.000000E+00 |  0.000000E+00 |  9.378414E+01 |  9.200911E+01\n",
      "    29 |     2900 |  0.000000E+00 |  0.000000E+00 |  9.306210E+01 |  9.043963E+01\n",
      "    30 |     3000 |  0.000000E+00 |  0.000000E+00 |  9.239284E+01 |  8.997260E+01\n",
      "    31 |     3100 |  0.000000E+00 |  0.000000E+00 |  9.170570E+01 |  8.964135E+01\n",
      "    32 |     3200 |  0.000000E+00 |  0.000000E+00 |  9.110427E+01 |  8.956540E+01\n",
      "    33 |     3300 |  0.000000E+00 |  0.000000E+00 |  9.042254E+01 |  8.867013E+01\n",
      "    34 |     3400 |  0.000000E+00 |  0.000000E+00 |  8.988789E+01 |  8.818992E+01\n",
      "    35 |     3500 |  0.000000E+00 |  0.000000E+00 |  8.949552E+01 |  8.818992E+01\n",
      "    36 |     3600 |  0.000000E+00 |  0.000000E+00 |  8.909316E+01 |  8.754691E+01\n",
      "    37 |     3700 |  0.000000E+00 |  0.000000E+00 |  8.868725E+01 |  8.754691E+01\n",
      "    38 |     3800 |  0.000000E+00 |  0.000000E+00 |  8.831389E+01 |  8.710399E+01\n",
      "    39 |     3900 |  0.000000E+00 |  0.000000E+00 |  8.803975E+01 |  8.671037E+01\n",
      "    40 |     4000 |  0.000000E+00 |  0.000000E+00 |  8.774770E+01 |  8.633670E+01\n",
      "    41 |     4100 |  0.000000E+00 |  0.000000E+00 |  8.743220E+01 |  8.614435E+01\n",
      "    42 |     4200 |  0.000000E+00 |  0.000000E+00 |  8.714794E+01 |  8.614435E+01\n",
      "    43 |     4300 |  0.000000E+00 |  0.000000E+00 |  8.684342E+01 |  8.567794E+01\n",
      "    44 |     4400 |  0.000000E+00 |  0.000000E+00 |  8.654417E+01 |  8.559474E+01\n",
      "    45 |     4500 |  0.000000E+00 |  0.000000E+00 |  8.623395E+01 |  8.508721E+01\n",
      "    46 |     4600 |  0.000000E+00 |  0.000000E+00 |  8.590649E+01 |  8.485050E+01\n",
      "    47 |     4700 |  0.000000E+00 |  0.000000E+00 |  8.558613E+01 |  8.473663E+01\n",
      "    48 |     4800 |  0.000000E+00 |  0.000000E+00 |  8.533137E+01 |  8.473663E+01\n",
      "    49 |     4900 |  0.000000E+00 |  0.000000E+00 |  8.506657E+01 |  8.416859E+01\n",
      "    50 |     5000 |  0.000000E+00 |  0.000000E+00 |  8.479791E+01 |  8.389961E+01\n",
      "    51 |     5100 |  0.000000E+00 |  0.000000E+00 |  8.452629E+01 |  8.333430E+01\n",
      "    52 |     5200 |  0.000000E+00 |  0.000000E+00 |  8.424048E+01 |  8.278877E+01\n",
      "    53 |     5300 |  0.000000E+00 |  0.000000E+00 |  8.398028E+01 |  8.278877E+01\n",
      "    54 |     5400 |  0.000000E+00 |  0.000000E+00 |  8.365291E+01 |  8.253429E+01\n",
      "    55 |     5500 |  0.000000E+00 |  0.000000E+00 |  8.334313E+01 |  8.235095E+01\n",
      "    56 |     5600 |  0.000000E+00 |  0.000000E+00 |  8.308810E+01 |  8.235095E+01\n",
      "    57 |     5700 |  0.000000E+00 |  0.000000E+00 |  8.283908E+01 |  8.228162E+01\n",
      "    58 |     5800 |  0.000000E+00 |  0.000000E+00 |  8.267926E+01 |  8.219283E+01\n",
      "    59 |     5900 |  0.000000E+00 |  0.000000E+00 |  8.252060E+01 |  8.211858E+01\n",
      "    60 |     6000 |  0.000000E+00 |  0.000000E+00 |  8.238632E+01 |  8.179383E+01\n",
      "    61 |     6100 |  0.000000E+00 |  0.000000E+00 |  8.228970E+01 |  8.179383E+01\n",
      "    62 |     6200 |  0.000000E+00 |  0.000000E+00 |  8.220814E+01 |  8.179383E+01\n",
      "    63 |     6300 |  0.000000E+00 |  0.000000E+00 |  8.213357E+01 |  8.167044E+01\n",
      "    64 |     6400 |  0.000000E+00 |  0.000000E+00 |  8.205258E+01 |  8.165340E+01\n",
      "    65 |     6500 |  0.000000E+00 |  0.000000E+00 |  8.195929E+01 |  8.157580E+01\n",
      "    66 |     6600 |  0.000000E+00 |  0.000000E+00 |  8.185260E+01 |  8.075554E+01\n",
      "    67 |     6700 |  0.000000E+00 |  0.000000E+00 |  8.177839E+01 |  8.075554E+01\n",
      "    68 |     6800 |  0.000000E+00 |  0.000000E+00 |  8.166591E+01 |  8.069017E+01\n",
      "    69 |     6900 |  0.000000E+00 |  0.000000E+00 |  8.153770E+01 |  8.066594E+01\n",
      "    70 |     7000 |  0.000000E+00 |  0.000000E+00 |  8.144682E+01 |  8.066594E+01\n",
      "    71 |     7100 |  0.000000E+00 |  0.000000E+00 |  8.130611E+01 |  8.057175E+01\n",
      "    72 |     7200 |  0.000000E+00 |  0.000000E+00 |  8.110733E+01 |  8.006904E+01\n",
      "    73 |     7300 |  0.000000E+00 |  0.000000E+00 |  8.084026E+01 |  8.006904E+01\n",
      "    74 |     7400 |  0.000000E+00 |  0.000000E+00 |  8.067757E+01 |  7.998840E+01\n",
      "    75 |     7500 |  0.000000E+00 |  0.000000E+00 |  8.053961E+01 |  7.991349E+01\n",
      "    76 |     7600 |  0.000000E+00 |  0.000000E+00 |  8.041391E+01 |  7.991349E+01\n",
      "    77 |     7700 |  0.000000E+00 |  0.000000E+00 |  8.025361E+01 |  7.982228E+01\n",
      "    78 |     7800 |  0.000000E+00 |  0.000000E+00 |  8.010668E+01 |  7.980127E+01\n",
      "    79 |     7900 |  0.000000E+00 |  0.000000E+00 |  7.999023E+01 |  7.961272E+01\n",
      "    80 |     8000 |  0.000000E+00 |  0.000000E+00 |  7.990789E+01 |  7.961272E+01\n",
      "    81 |     8100 |  0.000000E+00 |  0.000000E+00 |  7.984516E+01 |  7.961272E+01\n",
      "    82 |     8200 |  0.000000E+00 |  0.000000E+00 |  7.978603E+01 |  7.960363E+01\n",
      "    83 |     8300 |  0.000000E+00 |  0.000000E+00 |  7.972622E+01 |  7.958418E+01\n",
      "    84 |     8400 |  0.000000E+00 |  0.000000E+00 |  7.967150E+01 |  7.949659E+01\n",
      "    85 |     8500 |  0.000000E+00 |  0.000000E+00 |  7.963413E+01 |  7.949659E+01\n",
      "    86 |     8600 |  0.000000E+00 |  0.000000E+00 |  7.960753E+01 |  7.949659E+01\n",
      "    87 |     8700 |  0.000000E+00 |  0.000000E+00 |  7.958006E+01 |  7.948589E+01\n",
      "    88 |     8800 |  0.000000E+00 |  0.000000E+00 |  7.954941E+01 |  7.940816E+01\n",
      "    89 |     8900 |  0.000000E+00 |  0.000000E+00 |  7.951573E+01 |  7.929528E+01\n",
      "    90 |     9000 |  0.000000E+00 |  0.000000E+00 |  7.947600E+01 |  7.929528E+01\n",
      "    91 |     9100 |  0.000000E+00 |  0.000000E+00 |  7.942225E+01 |  7.926754E+01\n",
      "    92 |     9200 |  0.000000E+00 |  0.000000E+00 |  7.936740E+01 |  7.919009E+01\n",
      "    93 |     9300 |  0.000000E+00 |  0.000000E+00 |  7.932118E+01 |  7.919009E+01\n",
      "    94 |     9400 |  0.000000E+00 |  0.000000E+00 |  7.928733E+01 |  7.919009E+01\n",
      "    95 |     9500 |  0.000000E+00 |  0.000000E+00 |  7.925940E+01 |  7.912531E+01\n",
      "    96 |     9600 |  0.000000E+00 |  0.000000E+00 |  7.922575E+01 |  7.912531E+01\n",
      "    97 |     9700 |  0.000000E+00 |  0.000000E+00 |  7.920174E+01 |  7.910758E+01\n",
      "    98 |     9800 |  0.000000E+00 |  0.000000E+00 |  7.917909E+01 |  7.908018E+01\n",
      "    99 |     9900 |  0.000000E+00 |  0.000000E+00 |  7.914608E+01 |  7.903002E+01\n",
      "   100 |    10000 |  0.000000E+00 |  0.000000E+00 |  7.911778E+01 |  7.902147E+01\n",
      "   101 |    10100 |  0.000000E+00 |  0.000000E+00 |  7.909438E+01 |  7.899937E+01\n",
      "   102 |    10200 |  0.000000E+00 |  0.000000E+00 |  7.907432E+01 |  7.895912E+01\n",
      "   103 |    10300 |  0.000000E+00 |  0.000000E+00 |  7.905984E+01 |  7.891352E+01\n",
      "   104 |    10400 |  0.000000E+00 |  0.000000E+00 |  7.902827E+01 |  7.889764E+01\n",
      "   105 |    10500 |  0.000000E+00 |  0.000000E+00 |  7.899634E+01 |  7.889232E+01\n"
     ]
    },
    {
     "name": "stdout",
     "output_type": "stream",
     "text": [
      "   106 |    10600 |  0.000000E+00 |  0.000000E+00 |  7.896937E+01 |  7.883083E+01\n",
      "   107 |    10700 |  0.000000E+00 |  0.000000E+00 |  7.894089E+01 |  7.882947E+01\n",
      "   108 |    10800 |  0.000000E+00 |  0.000000E+00 |  7.891373E+01 |  7.878639E+01\n",
      "   109 |    10900 |  0.000000E+00 |  0.000000E+00 |  7.888150E+01 |  7.878226E+01\n",
      "   110 |    11000 |  0.000000E+00 |  0.000000E+00 |  7.885923E+01 |  7.875119E+01\n",
      "   111 |    11100 |  0.000000E+00 |  0.000000E+00 |  7.883648E+01 |  7.873855E+01\n",
      "   112 |    11200 |  0.000000E+00 |  0.000000E+00 |  7.881002E+01 |  7.872209E+01\n",
      "   113 |    11300 |  0.000000E+00 |  0.000000E+00 |  7.878314E+01 |  7.867180E+01\n",
      "   114 |    11400 |  0.000000E+00 |  0.000000E+00 |  7.875839E+01 |  7.867180E+01\n",
      "   115 |    11500 |  0.000000E+00 |  0.000000E+00 |  7.873763E+01 |  7.864830E+01\n",
      "   116 |    11600 |  0.000000E+00 |  0.000000E+00 |  7.872248E+01 |  7.864830E+01\n",
      "   117 |    11700 |  0.000000E+00 |  0.000000E+00 |  7.870484E+01 |  7.864115E+01\n",
      "   118 |    11800 |  0.000000E+00 |  0.000000E+00 |  7.868860E+01 |  7.860055E+01\n",
      "   119 |    11900 |  0.000000E+00 |  0.000000E+00 |  7.867203E+01 |  7.860055E+01\n",
      "   120 |    12000 |  0.000000E+00 |  0.000000E+00 |  7.865969E+01 |  7.858876E+01\n",
      "   121 |    12100 |  0.000000E+00 |  0.000000E+00 |  7.865280E+01 |  7.858876E+01\n",
      "   122 |    12200 |  0.000000E+00 |  0.000000E+00 |  7.864268E+01 |  7.858505E+01\n",
      "   123 |    12300 |  0.000000E+00 |  0.000000E+00 |  7.863341E+01 |  7.857481E+01\n",
      "   124 |    12400 |  0.000000E+00 |  0.000000E+00 |  7.862351E+01 |  7.854285E+01\n",
      "   125 |    12500 |  0.000000E+00 |  0.000000E+00 |  7.860974E+01 |  7.853781E+01\n",
      "   126 |    12600 |  0.000000E+00 |  0.000000E+00 |  7.859779E+01 |  7.852556E+01\n",
      "   127 |    12700 |  0.000000E+00 |  0.000000E+00 |  7.858166E+01 |  7.850395E+01\n",
      "   128 |    12800 |  0.000000E+00 |  0.000000E+00 |  7.856535E+01 |  7.850395E+01\n",
      "   129 |    12900 |  0.000000E+00 |  0.000000E+00 |  7.855280E+01 |  7.850395E+01\n",
      "   130 |    13000 |  0.000000E+00 |  0.000000E+00 |  7.853916E+01 |  7.850395E+01\n",
      "   131 |    13100 |  0.000000E+00 |  0.000000E+00 |  7.852812E+01 |  7.849707E+01\n",
      "   132 |    13200 |  0.000000E+00 |  0.000000E+00 |  7.852004E+01 |  7.847480E+01\n",
      "   133 |    13300 |  0.000000E+00 |  0.000000E+00 |  7.851372E+01 |  7.847420E+01\n",
      "   134 |    13400 |  0.000000E+00 |  0.000000E+00 |  7.850662E+01 |  7.847420E+01\n",
      "   135 |    13500 |  0.000000E+00 |  0.000000E+00 |  7.849827E+01 |  7.843945E+01\n",
      "   136 |    13600 |  0.000000E+00 |  0.000000E+00 |  7.849137E+01 |  7.843945E+01\n",
      "   137 |    13700 |  0.000000E+00 |  0.000000E+00 |  7.848289E+01 |  7.841697E+01\n",
      "   138 |    13800 |  0.000000E+00 |  0.000000E+00 |  7.847460E+01 |  7.841697E+01\n",
      "   139 |    13900 |  0.000000E+00 |  0.000000E+00 |  7.846623E+01 |  7.841401E+01\n",
      "   140 |    14000 |  0.000000E+00 |  0.000000E+00 |  7.845983E+01 |  7.841401E+01\n",
      "   141 |    14100 |  0.000000E+00 |  0.000000E+00 |  7.844816E+01 |  7.838849E+01\n",
      "   142 |    14200 |  0.000000E+00 |  0.000000E+00 |  7.843909E+01 |  7.838849E+01\n",
      "   143 |    14300 |  0.000000E+00 |  0.000000E+00 |  7.842962E+01 |  7.838849E+01\n",
      "   144 |    14400 |  0.000000E+00 |  0.000000E+00 |  7.841923E+01 |  7.838256E+01\n",
      "   145 |    14500 |  0.000000E+00 |  0.000000E+00 |  7.841120E+01 |  7.837883E+01\n",
      "   146 |    14600 |  0.000000E+00 |  0.000000E+00 |  7.840197E+01 |  7.837191E+01\n",
      "   147 |    14700 |  0.000000E+00 |  0.000000E+00 |  7.839394E+01 |  7.837191E+01\n",
      "   148 |    14800 |  0.000000E+00 |  0.000000E+00 |  7.838854E+01 |  7.836996E+01\n",
      "   149 |    14900 |  0.000000E+00 |  0.000000E+00 |  7.838378E+01 |  7.836553E+01\n",
      "   150 |    15000 |  0.000000E+00 |  0.000000E+00 |  7.838000E+01 |  7.835577E+01\n",
      "   151 |    15100 |  0.000000E+00 |  0.000000E+00 |  7.837481E+01 |  7.835283E+01\n",
      "   152 |    15200 |  0.000000E+00 |  0.000000E+00 |  7.837080E+01 |  7.835254E+01\n",
      "   153 |    15300 |  0.000000E+00 |  0.000000E+00 |  7.836696E+01 |  7.834154E+01\n",
      "   154 |    15400 |  0.000000E+00 |  0.000000E+00 |  7.836194E+01 |  7.833039E+01\n",
      "   155 |    15500 |  0.000000E+00 |  0.000000E+00 |  7.835758E+01 |  7.833039E+01\n",
      "   156 |    15600 |  0.000000E+00 |  0.000000E+00 |  7.835247E+01 |  7.832265E+01\n",
      "   157 |    15700 |  0.000000E+00 |  0.000000E+00 |  7.834782E+01 |  7.832135E+01\n",
      "   158 |    15800 |  0.000000E+00 |  0.000000E+00 |  7.834344E+01 |  7.832135E+01\n",
      "   159 |    15900 |  0.000000E+00 |  0.000000E+00 |  7.833787E+01 |  7.831970E+01\n",
      "   160 |    16000 |  0.000000E+00 |  0.000000E+00 |  7.833259E+01 |  7.831594E+01\n",
      "   161 |    16100 |  0.000000E+00 |  0.000000E+00 |  7.832816E+01 |  7.831401E+01\n",
      "   162 |    16200 |  0.000000E+00 |  0.000000E+00 |  7.832424E+01 |  7.830615E+01\n",
      "   163 |    16300 |  0.000000E+00 |  0.000000E+00 |  7.832142E+01 |  7.830615E+01\n",
      "   164 |    16400 |  0.000000E+00 |  0.000000E+00 |  7.831870E+01 |  7.830615E+01\n",
      "   165 |    16500 |  0.000000E+00 |  0.000000E+00 |  7.831667E+01 |  7.830542E+01\n",
      "   166 |    16600 |  0.000000E+00 |  0.000000E+00 |  7.831368E+01 |  7.830427E+01\n",
      "   167 |    16700 |  0.000000E+00 |  0.000000E+00 |  7.831158E+01 |  7.829950E+01\n",
      "   168 |    16800 |  0.000000E+00 |  0.000000E+00 |  7.830879E+01 |  7.829950E+01\n",
      "   169 |    16900 |  0.000000E+00 |  0.000000E+00 |  7.830599E+01 |  7.829768E+01\n",
      "   170 |    17000 |  0.000000E+00 |  0.000000E+00 |  7.830287E+01 |  7.829149E+01\n",
      "   171 |    17100 |  0.000000E+00 |  0.000000E+00 |  7.830115E+01 |  7.829149E+01\n",
      "   172 |    17200 |  0.000000E+00 |  0.000000E+00 |  7.829871E+01 |  7.828984E+01\n",
      "   173 |    17300 |  0.000000E+00 |  0.000000E+00 |  7.829715E+01 |  7.828395E+01\n",
      "   174 |    17400 |  0.000000E+00 |  0.000000E+00 |  7.829527E+01 |  7.828375E+01\n",
      "   175 |    17500 |  0.000000E+00 |  0.000000E+00 |  7.829303E+01 |  7.828331E+01\n",
      "   176 |    17600 |  0.000000E+00 |  0.000000E+00 |  7.829098E+01 |  7.828331E+01\n",
      "   177 |    17700 |  0.000000E+00 |  0.000000E+00 |  7.828875E+01 |  7.827766E+01\n",
      "   178 |    17800 |  0.000000E+00 |  0.000000E+00 |  7.828705E+01 |  7.826867E+01\n",
      "   179 |    17900 |  0.000000E+00 |  0.000000E+00 |  7.828502E+01 |  7.826867E+01\n",
      "   180 |    18000 |  0.000000E+00 |  0.000000E+00 |  7.828307E+01 |  7.826867E+01\n",
      "   181 |    18100 |  0.000000E+00 |  0.000000E+00 |  7.828120E+01 |  7.826867E+01\n",
      "   182 |    18200 |  0.000000E+00 |  0.000000E+00 |  7.827903E+01 |  7.826752E+01\n",
      "   183 |    18300 |  0.000000E+00 |  0.000000E+00 |  7.827671E+01 |  7.826744E+01\n",
      "   184 |    18400 |  0.000000E+00 |  0.000000E+00 |  7.827341E+01 |  7.825434E+01\n",
      "   185 |    18500 |  0.000000E+00 |  0.000000E+00 |  7.827042E+01 |  7.825413E+01\n",
      "   186 |    18600 |  0.000000E+00 |  0.000000E+00 |  7.826852E+01 |  7.825197E+01\n",
      "   187 |    18700 |  0.000000E+00 |  0.000000E+00 |  7.826705E+01 |  7.825197E+01\n",
      "   188 |    18800 |  0.000000E+00 |  0.000000E+00 |  7.826595E+01 |  7.825104E+01\n",
      "   189 |    18900 |  0.000000E+00 |  0.000000E+00 |  7.826447E+01 |  7.824868E+01\n",
      "   190 |    19000 |  0.000000E+00 |  0.000000E+00 |  7.826310E+01 |  7.824868E+01\n",
      "   191 |    19100 |  0.000000E+00 |  0.000000E+00 |  7.826093E+01 |  7.824868E+01\n",
      "   192 |    19200 |  0.000000E+00 |  0.000000E+00 |  7.825804E+01 |  7.824786E+01\n",
      "   193 |    19300 |  0.000000E+00 |  0.000000E+00 |  7.825564E+01 |  7.824687E+01\n",
      "   194 |    19400 |  0.000000E+00 |  0.000000E+00 |  7.825243E+01 |  7.824665E+01\n",
      "   195 |    19500 |  0.000000E+00 |  0.000000E+00 |  7.825067E+01 |  7.824506E+01\n",
      "   196 |    19600 |  0.000000E+00 |  0.000000E+00 |  7.824920E+01 |  7.824506E+01\n",
      "   197 |    19700 |  0.000000E+00 |  0.000000E+00 |  7.824830E+01 |  7.824495E+01\n",
      "   198 |    19800 |  0.000000E+00 |  0.000000E+00 |  7.824740E+01 |  7.824141E+01\n",
      "   199 |    19900 |  0.000000E+00 |  0.000000E+00 |  7.824659E+01 |  7.824141E+01\n",
      "   200 |    20000 |  0.000000E+00 |  0.000000E+00 |  7.824579E+01 |  7.824141E+01\n",
      "   201 |    20100 |  0.000000E+00 |  0.000000E+00 |  7.824486E+01 |  7.824102E+01\n",
      "   202 |    20200 |  0.000000E+00 |  0.000000E+00 |  7.824383E+01 |  7.823947E+01\n",
      "   203 |    20300 |  0.000000E+00 |  0.000000E+00 |  7.824312E+01 |  7.823931E+01\n",
      "   204 |    20400 |  0.000000E+00 |  0.000000E+00 |  7.824197E+01 |  7.823793E+01\n",
      "   205 |    20500 |  0.000000E+00 |  0.000000E+00 |  7.824109E+01 |  7.823782E+01\n",
      "   206 |    20600 |  0.000000E+00 |  0.000000E+00 |  7.824052E+01 |  7.823772E+01\n",
      "   207 |    20700 |  0.000000E+00 |  0.000000E+00 |  7.823983E+01 |  7.823534E+01\n",
      "   208 |    20800 |  0.000000E+00 |  0.000000E+00 |  7.823936E+01 |  7.823530E+01\n",
      "   209 |    20900 |  0.000000E+00 |  0.000000E+00 |  7.823892E+01 |  7.823530E+01\n",
      "   210 |    21000 |  0.000000E+00 |  0.000000E+00 |  7.823812E+01 |  7.823350E+01\n",
      "   211 |    21100 |  0.000000E+00 |  0.000000E+00 |  7.823725E+01 |  7.823350E+01\n",
      "   212 |    21200 |  0.000000E+00 |  0.000000E+00 |  7.823634E+01 |  7.823286E+01\n",
      "   213 |    21300 |  0.000000E+00 |  0.000000E+00 |  7.823571E+01 |  7.823259E+01\n",
      "   214 |    21400 |  0.000000E+00 |  0.000000E+00 |  7.823499E+01 |  7.823259E+01\n"
     ]
    },
    {
     "name": "stdout",
     "output_type": "stream",
     "text": [
      "   215 |    21500 |  0.000000E+00 |  0.000000E+00 |  7.823438E+01 |  7.823259E+01\n",
      "   216 |    21600 |  0.000000E+00 |  0.000000E+00 |  7.823380E+01 |  7.823230E+01\n",
      "   217 |    21700 |  0.000000E+00 |  0.000000E+00 |  7.823335E+01 |  7.823180E+01\n",
      "   218 |    21800 |  0.000000E+00 |  0.000000E+00 |  7.823301E+01 |  7.823108E+01\n",
      "   219 |    21900 |  0.000000E+00 |  0.000000E+00 |  7.823268E+01 |  7.823108E+01\n",
      "   220 |    22000 |  0.000000E+00 |  0.000000E+00 |  7.823241E+01 |  7.823108E+01\n",
      "   221 |    22100 |  0.000000E+00 |  0.000000E+00 |  7.823220E+01 |  7.823087E+01\n",
      "   222 |    22200 |  0.000000E+00 |  0.000000E+00 |  7.823192E+01 |  7.823070E+01\n",
      "   223 |    22300 |  0.000000E+00 |  0.000000E+00 |  7.823161E+01 |  7.823068E+01\n",
      "   224 |    22400 |  0.000000E+00 |  0.000000E+00 |  7.823129E+01 |  7.823013E+01\n",
      "   225 |    22500 |  0.000000E+00 |  0.000000E+00 |  7.823103E+01 |  7.823013E+01\n",
      "   226 |    22600 |  0.000000E+00 |  0.000000E+00 |  7.823086E+01 |  7.823013E+01\n",
      "   227 |    22700 |  0.000000E+00 |  0.000000E+00 |  7.823069E+01 |  7.822985E+01\n",
      "   228 |    22800 |  0.000000E+00 |  0.000000E+00 |  7.823049E+01 |  7.822972E+01\n",
      "   229 |    22900 |  0.000000E+00 |  0.000000E+00 |  7.823030E+01 |  7.822944E+01\n",
      "   230 |    23000 |  0.000000E+00 |  0.000000E+00 |  7.823006E+01 |  7.822916E+01\n",
      "   231 |    23100 |  0.000000E+00 |  0.000000E+00 |  7.822987E+01 |  7.822891E+01\n",
      "   232 |    23200 |  0.000000E+00 |  0.000000E+00 |  7.822960E+01 |  7.822851E+01\n",
      "   233 |    23300 |  0.000000E+00 |  0.000000E+00 |  7.822938E+01 |  7.822808E+01\n",
      "   234 |    23400 |  0.000000E+00 |  0.000000E+00 |  7.822918E+01 |  7.822794E+01\n",
      "   235 |    23500 |  0.000000E+00 |  0.000000E+00 |  7.822898E+01 |  7.822794E+01\n",
      "   236 |    23600 |  0.000000E+00 |  0.000000E+00 |  7.822873E+01 |  7.822791E+01\n",
      "   237 |    23700 |  0.000000E+00 |  0.000000E+00 |  7.822849E+01 |  7.822311E+01\n",
      "   238 |    23800 |  0.000000E+00 |  0.000000E+00 |  7.822828E+01 |  7.822300E+01\n",
      "   239 |    23900 |  0.000000E+00 |  0.000000E+00 |  7.822808E+01 |  7.822300E+01\n",
      "   240 |    24000 |  0.000000E+00 |  0.000000E+00 |  7.822781E+01 |  7.822240E+01\n",
      "   241 |    24100 |  0.000000E+00 |  0.000000E+00 |  7.822749E+01 |  7.822240E+01\n",
      "   242 |    24200 |  0.000000E+00 |  0.000000E+00 |  7.822707E+01 |  7.822021E+01\n",
      "   243 |    24300 |  0.000000E+00 |  0.000000E+00 |  7.822639E+01 |  7.822021E+01\n",
      "   244 |    24400 |  0.000000E+00 |  0.000000E+00 |  7.822497E+01 |  7.822010E+01\n",
      "   245 |    24500 |  0.000000E+00 |  0.000000E+00 |  7.822316E+01 |  7.821953E+01\n",
      "   246 |    24600 |  0.000000E+00 |  0.000000E+00 |  7.822203E+01 |  7.821928E+01\n",
      "   247 |    24700 |  0.000000E+00 |  0.000000E+00 |  7.822141E+01 |  7.821917E+01\n",
      "   248 |    24800 |  0.000000E+00 |  0.000000E+00 |  7.822067E+01 |  7.821878E+01\n",
      "   249 |    24900 |  0.000000E+00 |  0.000000E+00 |  7.821991E+01 |  7.821878E+01\n",
      "   250 |    25000 |  0.000000E+00 |  0.000000E+00 |  7.821952E+01 |  7.821865E+01\n",
      "   251 |    25100 |  0.000000E+00 |  0.000000E+00 |  7.821930E+01 |  7.821712E+01\n",
      "   252 |    25200 |  0.000000E+00 |  0.000000E+00 |  7.821913E+01 |  7.821712E+01\n",
      "   253 |    25300 |  0.000000E+00 |  0.000000E+00 |  7.821897E+01 |  7.821712E+01\n",
      "   254 |    25400 |  0.000000E+00 |  0.000000E+00 |  7.821880E+01 |  7.821702E+01\n",
      "   255 |    25500 |  0.000000E+00 |  0.000000E+00 |  7.821859E+01 |  7.821702E+01\n",
      "   256 |    25600 |  0.000000E+00 |  0.000000E+00 |  7.821846E+01 |  7.821702E+01\n",
      "   257 |    25700 |  0.000000E+00 |  0.000000E+00 |  7.821825E+01 |  7.821664E+01\n",
      "   258 |    25800 |  0.000000E+00 |  0.000000E+00 |  7.821791E+01 |  7.821643E+01\n",
      "   259 |    25900 |  0.000000E+00 |  0.000000E+00 |  7.821749E+01 |  7.821643E+01\n",
      "   260 |    26000 |  0.000000E+00 |  0.000000E+00 |  7.821718E+01 |  7.821642E+01\n",
      "   261 |    26100 |  0.000000E+00 |  0.000000E+00 |  7.821701E+01 |  7.821621E+01\n",
      "   262 |    26200 |  0.000000E+00 |  0.000000E+00 |  7.821681E+01 |  7.821561E+01\n",
      "   263 |    26300 |  0.000000E+00 |  0.000000E+00 |  7.821665E+01 |  7.821558E+01\n",
      "   264 |    26400 |  0.000000E+00 |  0.000000E+00 |  7.821653E+01 |  7.821554E+01\n",
      "   265 |    26500 |  0.000000E+00 |  0.000000E+00 |  7.821636E+01 |  7.821536E+01\n",
      "   266 |    26600 |  0.000000E+00 |  0.000000E+00 |  7.821620E+01 |  7.821500E+01\n",
      "   267 |    26700 |  0.000000E+00 |  0.000000E+00 |  7.821599E+01 |  7.821497E+01\n",
      "   268 |    26800 |  0.000000E+00 |  0.000000E+00 |  7.821568E+01 |  7.821487E+01\n",
      "   269 |    26900 |  0.000000E+00 |  0.000000E+00 |  7.821538E+01 |  7.821468E+01\n",
      "   270 |    27000 |  0.000000E+00 |  0.000000E+00 |  7.821521E+01 |  7.821468E+01\n",
      "   271 |    27100 |  0.000000E+00 |  0.000000E+00 |  7.821508E+01 |  7.821447E+01\n",
      "   272 |    27200 |  0.000000E+00 |  0.000000E+00 |  7.821497E+01 |  7.821435E+01\n",
      "   273 |    27300 |  0.000000E+00 |  0.000000E+00 |  7.821488E+01 |  7.821432E+01\n",
      "   274 |    27400 |  0.000000E+00 |  0.000000E+00 |  7.821476E+01 |  7.821395E+01\n",
      "   275 |    27500 |  0.000000E+00 |  0.000000E+00 |  7.821462E+01 |  7.821383E+01\n",
      "   276 |    27600 |  0.000000E+00 |  0.000000E+00 |  7.821446E+01 |  7.821363E+01\n",
      "   277 |    27700 |  0.000000E+00 |  0.000000E+00 |  7.821432E+01 |  7.821363E+01\n",
      "   278 |    27800 |  0.000000E+00 |  0.000000E+00 |  7.821421E+01 |  7.821361E+01\n",
      "   279 |    27900 |  0.000000E+00 |  0.000000E+00 |  7.821407E+01 |  7.821155E+01\n",
      "   280 |    28000 |  0.000000E+00 |  0.000000E+00 |  7.821388E+01 |  7.821155E+01\n",
      "   281 |    28100 |  0.000000E+00 |  0.000000E+00 |  7.821374E+01 |  7.821155E+01\n",
      "   282 |    28200 |  0.000000E+00 |  0.000000E+00 |  7.821362E+01 |  7.821127E+01\n",
      "   283 |    28300 |  0.000000E+00 |  0.000000E+00 |  7.821348E+01 |  7.821120E+01\n",
      "   284 |    28400 |  0.000000E+00 |  0.000000E+00 |  7.821336E+01 |  7.821097E+01\n",
      "   285 |    28500 |  0.000000E+00 |  0.000000E+00 |  7.821325E+01 |  7.821097E+01\n",
      "   286 |    28600 |  0.000000E+00 |  0.000000E+00 |  7.821296E+01 |  7.821090E+01\n",
      "   287 |    28700 |  0.000000E+00 |  0.000000E+00 |  7.821254E+01 |  7.821061E+01\n",
      "   288 |    28800 |  0.000000E+00 |  0.000000E+00 |  7.821180E+01 |  7.821052E+01\n",
      "   289 |    28900 |  0.000000E+00 |  0.000000E+00 |  7.821120E+01 |  7.821040E+01\n",
      "   290 |    29000 |  0.000000E+00 |  0.000000E+00 |  7.821101E+01 |  7.821020E+01\n",
      "   291 |    29100 |  0.000000E+00 |  0.000000E+00 |  7.821083E+01 |  7.821020E+01\n",
      "   292 |    29200 |  0.000000E+00 |  0.000000E+00 |  7.821066E+01 |  7.820935E+01\n",
      "   293 |    29300 |  0.000000E+00 |  0.000000E+00 |  7.821051E+01 |  7.820911E+01\n",
      "   294 |    29400 |  0.000000E+00 |  0.000000E+00 |  7.821040E+01 |  7.820911E+01\n",
      "   295 |    29500 |  0.000000E+00 |  0.000000E+00 |  7.821028E+01 |  7.820911E+01\n",
      "   296 |    29600 |  0.000000E+00 |  0.000000E+00 |  7.821018E+01 |  7.820891E+01\n",
      "   297 |    29700 |  0.000000E+00 |  0.000000E+00 |  7.821006E+01 |  7.820891E+01\n",
      "   298 |    29800 |  0.000000E+00 |  0.000000E+00 |  7.820994E+01 |  7.820891E+01\n",
      "   299 |    29900 |  0.000000E+00 |  0.000000E+00 |  7.820977E+01 |  7.820890E+01\n",
      "   300 |    30000 |  0.000000E+00 |  0.000000E+00 |  7.820953E+01 |  7.820875E+01\n",
      "\n",
      "\n",
      "Optimizer_pymoo: Optimization run finished\n",
      "  Success: True\n",
      "  Best potential = 78.20874685518577\n"
     ]
    }
   ],
   "source": [
    "solver = Optimizer_pymoo(\n",
    "    problem,\n",
    "    problem_pars=dict(\n",
    "        vectorize=True,\n",
    "    ),\n",
    "    algo_pars=dict(\n",
    "        type=\"ga\",\n",
    "        pop_size=100,\n",
    "    ),\n",
    "    setup_pars=dict(),\n",
    "    term_pars=dict(\n",
    "        type=\"default\",\n",
    "        n_max_gen=300,\n",
    "        ftol=1e-6,\n",
    "        xtol=1e-6,\n",
    "    ),\n",
    ")\n",
    "solver.initialize()\n",
    "solver.print_info()\n",
    "\n",
    "results = solver.solve(verbosity=0)\n",
    "solver.finalize(results)"
   ]
  },
  {
   "cell_type": "code",
   "execution_count": 28,
   "metadata": {},
   "outputs": [
    {
     "data": {
      "image/png": "[encoded data removed]",
      "text/plain": [
       "<Figure size 432x432 with 1 Axes>"
      ]
     },
     "metadata": {
      "needs_background": "light"
     },
     "output_type": "display_data"
    }
   ],
   "source": [
    "xy = results.problem_results\n",
    "fig = problem.get_fig(xy)\n",
    "plt.show()"
   ]
  }
 ],
 "metadata": {
  "kernelspec": {
   "display_name": "Python 3 (ipykernel)",
   "language": "python",
   "name": "python3"
  },
  "language_info": {
   "codemirror_mode": {
    "name": "ipython",
    "version": 3
   },
   "file_extension": ".py",
   "mimetype": "text/x-python",
   "name": "python",
   "nbconvert_exporter": "python",
   "pygments_lexer": "ipython3",
   "version": "3.8.10"
  },
  "vscode": {
   "interpreter": {
    "hash": "31f2aee4e71d21fbe5cf8b01ff0e069b9275f58929596ceb00d14d90e3e16cd6"
   }
  }
 },
 "nbformat": 4,
 "nbformat_minor": 2
}
