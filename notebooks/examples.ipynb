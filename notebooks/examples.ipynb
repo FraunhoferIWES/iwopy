{
 "cells": [
  {
   "cell_type": "markdown",
   "metadata": {},
   "source": [
    "# Examples"
   ]
  },
  {
   "cell_type": "markdown",
   "metadata": {},
   "source": [
    "## Simple function minimization"
   ]
  },
  {
   "cell_type": "markdown",
   "metadata": {},
   "source": [
    "Let's minimize the following simple function:\n",
    "\n",
    "$$\n",
    "f(x, y) = (x - 3.6)^2 - 2 (y+1.1)^2\n",
    "$$\n",
    "\n",
    "The global minimum is obvious: $f=0$ for $x=3.6, y=-1.1$. We now want to find this minimum using `iwopy`, in a setup as follows:\n",
    "\n",
    "- Parameter bounds: $x, y \\in [-5,5]$\n",
    "- Unconstrained minimization\n",
    "- Gradient based optimizer [IPOPT](https://esa.github.io/pagmo2/docs/cpp/algorithms/ipopt.html) from [pygmo](https://esa.github.io/pygmo2/)\n",
    "- Analytical gradients\n",
    "\n",
    "The usage of finite difference gradients will be demonstrated directly after. We start by importing the required classes from the `iwopy` package:"
   ]
  },
  {
   "cell_type": "code",
   "execution_count": 1,
   "metadata": {},
   "outputs": [],
   "source": [
    "from iwopy import SimpleProblem, SimpleObjective\n",
    "from iwopy.interfaces.pygmo import Optimizer_pygmo"
   ]
  },
  {
   "cell_type": "markdown",
   "metadata": {},
   "source": [
    "The `SimpleProblem` will be instantiated with two float type variables `x` and `y` which will be passed on to all linked objectives and constraints. The `SimpleObjective` (and also the `SimpleConstraint` classes assume the same variables as the problem, in the same order. We can therefore implement the above function $f(x, y)$ and the derivative \n",
    "$$\n",
    "g(v, x, y) = \\left\\{ \n",
    "\\begin{array}{ll}\n",
    "\\mathrm df / \\mathrm dx \\ ,& \\text{if} \\ v = 0 \\\\\n",
    "\\mathrm df / \\mathrm dy \\ ,& \\text{if} \\ v = 1\n",
    "\\end{array}\n",
    "\\right.\n",
    "$$ \n",
    "in a straight forward manner:"
   ]
  },
  {
   "cell_type": "code",
   "execution_count": 2,
   "metadata": {},
   "outputs": [],
   "source": [
    "class MinFunc(SimpleObjective):\n",
    "    \n",
    "    def f(self, x, y):\n",
    "        return (x - 3.6)**2 + 2*(y + 1.1)**2\n",
    "    \n",
    "    def g(self, v, x, y, components):\n",
    "        return 2*(x - 3.6) if v == 0 else 4*(y + 1.1)"
   ]
  },
  {
   "cell_type": "markdown",
   "metadata": {},
   "source": [
    "Notice that the `components` argument of the function `g` is not used here since `f` is a single-component function.\n",
    "\n",
    "Otherwise, the parameter `n_components` has to be passed to the `__init__` function of `SimpleObjective`, and `f` has to return a list of scalars. In that case also `g` has to return a list of results, with same length as the requested `components`. The same rules apply to classes derived from `SimpleConstraint`.\n",
    "\n",
    "We can now proceed and setup the problem:"
   ]
  },
  {
   "cell_type": "code",
   "execution_count": 3,
   "metadata": {
    "scrolled": true
   },
   "outputs": [
    {
     "name": "stdout",
     "output_type": "stream",
     "text": [
      "Problem 'minf' (SimpleProblem): Initializing\n",
      "--------------------------------------------\n",
      "  n_vars_int   : 0\n",
      "  n_vars_float : 2\n",
      "--------------------------------------------\n",
      "  n_objectives : 1\n",
      "  n_obj_cmptns : 1\n",
      "--------------------------------------------\n",
      "  n_constraints: 0\n",
      "  n_con_cmptns : 0\n",
      "--------------------------------------------\n"
     ]
    }
   ],
   "source": [
    "problem = SimpleProblem(\n",
    "    name=\"minf\", \n",
    "    float_vars=[\"x\", \"y\"],\n",
    "    init_values_float=[0.0, 0.0],\n",
    "    min_values_float=[-5.0, -5.0],\n",
    "    max_values_float=[5.0, 5.0],\n",
    ")\n",
    "problem.add_objective(MinFunc(problem))\n",
    "problem.initialize()"
   ]
  },
  {
   "cell_type": "markdown",
   "metadata": {},
   "source": [
    "Note that in a similar way you can easily add constraints to the problem, by defining them in a class that is derived from `iwopy.Constraint` or `iwopy.SimpleConstraint` and then adding them via `problem.add_constraint(...)`. \n",
    "\n",
    "Adding additional objectives works in the same way, simply repeat `problem.add_objective(...)` as often as you want. However, be aware that not all optimizers can handle multiple objective cases.\n",
    "\n",
    "Next, we create and initialize the solver:"
   ]
  },
  {
   "cell_type": "code",
   "execution_count": 4,
   "metadata": {},
   "outputs": [
    {
     "name": "stdout",
     "output_type": "stream",
     "text": [
      "\n",
      "Algorithm name: Ipopt: Interior Point Optimization [deterministic]\n",
      "\tC++ class name: pagmo::ipopt\n",
      "\n",
      "\tThread safety: none\n",
      "\n",
      "Extra info:\n",
      "\tLast optimisation return code: Solve_Succeeded (value = 0)\n",
      "\tVerbosity: 1\n",
      "\tIndividual selection policy: best\n",
      "\tIndividual replacement policy: best\n",
      "\tNumeric options: {tol : 0.0001}\n",
      "\n"
     ]
    }
   ],
   "source": [
    "solver = Optimizer_pygmo(\n",
    "    problem,\n",
    "    problem_pars=dict(c_tol=1e-3),\n",
    "    algo_pars=dict(type=\"ipopt\", tol=1e-4),\n",
    ")\n",
    "solver.initialize()\n",
    "solver.print_info()"
   ]
  },
  {
   "cell_type": "markdown",
   "metadata": {},
   "source": [
    "Ok, we are now ready - let's solve the problem!"
   ]
  },
  {
   "cell_type": "code",
   "execution_count": 5,
   "metadata": {
    "scrolled": true
   },
   "outputs": [
    {
     "name": "stdout",
     "output_type": "stream",
     "text": [
      "\n",
      "******************************************************************************\n",
      "This program contains Ipopt, a library for large-scale nonlinear optimization.\n",
      " Ipopt is released as open source code under the Eclipse Public License (EPL).\n",
      "         For more information visit http://projects.coin-or.org/Ipopt\n",
      "******************************************************************************\n",
      "\n",
      "\n",
      " objevals:        objval:      violated:    viol. norm:\n",
      "         1          15.38              0              0\n",
      "         2        9.23375              0              0\n",
      "         3        9.23375              0              0\n",
      "         4        9.23375              0              0\n",
      "         5        9.23375              0              0\n",
      "         6        9.23375              0              0\n",
      "         7        1.60594              0              0\n",
      "         8      0.0440281              0              0\n",
      "         9     0.00157443              0              0\n",
      "        10    1.35988e-06              0              0\n",
      "\n",
      "Problem name: minf\n",
      "\tC++ class name: pybind11::object\n",
      "\n",
      "\tGlobal dimension:\t\t\t2\n",
      "\tInteger dimension:\t\t\t0\n",
      "\tFitness dimension:\t\t\t1\n",
      "\tNumber of objectives:\t\t\t1\n",
      "\tEquality constraints dimension:\t\t0\n",
      "\tInequality constraints dimension:\t0\n",
      "\tLower bounds: [-5, -5]\n",
      "\tUpper bounds: [5, 5]\n",
      "\tHas batch fitness evaluation: false\n",
      "\n",
      "\tHas gradient: true\n",
      "\tUser implemented gradient sparsity: true\n",
      "\tExpected gradients: 2\n",
      "\tHas hessians: false\n",
      "\tUser implemented hessians sparsity: false\n",
      "\n",
      "\tFitness evaluations: 14\n",
      "\tGradient evaluations: 7\n",
      "\n",
      "\tThread safety: none\n",
      "\n",
      "Population size: 1\n",
      "\n",
      "List of individuals: \n",
      "#0:\n",
      "\tID:\t\t\t14392082936411722767\n",
      "\tDecision vector:\t[3.6, -1.1]\n",
      "\tFitness vector:\t\t[1.28522e-12]\n",
      "\n",
      "Champion decision vector: [3.6, -1.1]\n",
      "Champion fitness: [1.28522e-12]\n",
      "\n",
      "\n",
      "\n",
      "Optimizer_pygmo: Optimization run finished\n",
      "  Success: True\n",
      "  Best f = 1.2852212531163044e-12\n",
      "        11    1.28522e-12              0              0\n"
     ]
    }
   ],
   "source": [
    "results = solver.solve()\n",
    "solver.finalize(results)"
   ]
  },
  {
   "cell_type": "code",
   "execution_count": 6,
   "metadata": {},
   "outputs": [
    {
     "name": "stdout",
     "output_type": "stream",
     "text": [
      "x,y = [ 3.59999901 -1.10000039]\n",
      "f = 1.2852212531163044e-12\n"
     ]
    }
   ],
   "source": [
    "print(\"x,y =\", results.vars_float)\n",
    "print(\"f =\", results.objs[0])"
   ]
  },
  {
   "cell_type": "markdown",
   "metadata": {},
   "source": [
    "Next, we want to explore finite difference gradient calculations for the same example. We can either remove the function `g(v, x, y, components)` from the `MinFunc` class, or create it invoking the parameter `has_ana_derivs=False`. This will then ignore the analytical gradient definition in the class.\n",
    "\n",
    "Additionally, we need to wrap the problem into the `DiscretizeRegGrid` problem wrapper and set the grid step size and the order of finite difference derivative calculations. This is the code for doing so:"
   ]
  },
  {
   "cell_type": "code",
   "execution_count": 7,
   "metadata": {},
   "outputs": [],
   "source": [
    "from iwopy import DiscretizeRegGrid"
   ]
  },
  {
   "cell_type": "code",
   "execution_count": 11,
   "metadata": {},
   "outputs": [],
   "source": [
    "problem = SimpleProblem(\n",
    "    name=\"minf\", \n",
    "    float_vars=[\"x\", \"y\"],\n",
    "    init_values_float=[0.0, 0.0],\n",
    "    min_values_float=[-5.0, -5.0],\n",
    "    max_values_float=[5.0, 5.0],\n",
    ")\n",
    "problem.add_objective(MinFunc(problem, has_ana_derivs=False))"
   ]
  },
  {
   "cell_type": "code",
   "execution_count": 17,
   "metadata": {
    "scrolled": true
   },
   "outputs": [],
   "source": [
    "gproblem = DiscretizeRegGrid(problem, deltas={\"x\": 0.01, \"y\": 0.01}, fd_order=2)\n",
    "gproblem.initialize()"
   ]
  },
  {
   "cell_type": "markdown",
   "metadata": {},
   "source": [
    "The `gproblem` object is now the `problem` on a grid, defined by the variable bounds and the specified `deltas`. We can use the same gradient based solver as above for solving this problem:"
   ]
  },
  {
   "cell_type": "code",
   "execution_count": 18,
   "metadata": {},
   "outputs": [
    {
     "name": "stdout",
     "output_type": "stream",
     "text": [
      "\n",
      "Optimisation return status: Solve_Succeeded (value = 0)\n",
      "\n",
      " objevals:        objval:      violated:    viol. norm:\n",
      "         1          15.38              0              0\n",
      "         2         9.2338              0              0\n",
      "         3         9.2338              0              0\n",
      "         4         9.2338              0              0\n",
      "         5         9.2338              0              0\n",
      "         6         9.2338              0              0\n",
      "         7          1.606              0              0\n",
      "         8      0.0440738              0              0\n",
      "         9     0.00159727              0              0\n",
      "        10    1.27606e-05              0              0\n",
      "        11    1.77386e-08              0              0\n",
      "\n",
      "Problem name: minf_grid\n",
      "\tC++ class name: pybind11::object\n",
      "\n",
      "\tGlobal dimension:\t\t\t2\n",
      "\tInteger dimension:\t\t\t0\n",
      "\tFitness dimension:\t\t\t1\n",
      "\tNumber of objectives:\t\t\t1\n",
      "\tEquality constraints dimension:\t\t0\n",
      "\tInequality constraints dimension:\t0\n",
      "\tLower bounds: [-5, -5]\n",
      "\tUpper bounds: [5, 5]\n",
      "\tHas batch fitness evaluation: false\n",
      "\n",
      "\tHas gradient: true\n",
      "\tUser implemented gradient sparsity: true\n",
      "\tExpected gradients: 2\n",
      "\tHas hessians: false\n",
      "\tUser implemented hessians sparsity: false\n",
      "\n",
      "\tFitness evaluations: 14\n",
      "\tGradient evaluations: 7\n",
      "\n",
      "\tThread safety: none\n",
      "\n",
      "Population size: 1\n",
      "\n",
      "List of individuals: \n",
      "#0:\n",
      "\tID:\t\t\t2111600356471228164\n",
      "\tDecision vector:\t[3.6, -1.1]\n",
      "\tFitness vector:\t\t[1.77386e-08]\n",
      "\n",
      "Champion decision vector: [3.6, -1.1]\n",
      "Champion fitness: [1.77386e-08]\n",
      "\n",
      "\n",
      "\n",
      "Optimizer_pygmo: Optimization run finished\n",
      "  Success: True\n",
      "  Best f = 1.2852212529252677e-12\n"
     ]
    }
   ],
   "source": [
    "solver = Optimizer_pygmo(\n",
    "    gproblem,\n",
    "    problem_pars=dict(c_tol=1e-3),\n",
    "    algo_pars=dict(type=\"ipopt\", tol=1e-4),\n",
    ")\n",
    "solver.initialize()\n",
    "\n",
    "results = solver.solve()\n",
    "solver.finalize(results)"
   ]
  },
  {
   "cell_type": "code",
   "execution_count": 19,
   "metadata": {},
   "outputs": [
    {
     "name": "stdout",
     "output_type": "stream",
     "text": [
      "x,y = [ 3.59999901 -1.10000039]\n",
      "f = 1.2852212529252677e-12\n"
     ]
    }
   ],
   "source": [
    "print(\"x,y =\", results.vars_float)\n",
    "print(\"f =\", results.objs[0])"
   ]
  },
  {
   "cell_type": "code",
   "execution_count": null,
   "metadata": {},
   "outputs": [],
   "source": []
  },
  {
   "cell_type": "code",
   "execution_count": null,
   "metadata": {},
   "outputs": [],
   "source": []
  }
 ],
 "metadata": {
  "kernelspec": {
   "display_name": "Python 3",
   "language": "python",
   "name": "python3"
  },
  "language_info": {
   "codemirror_mode": {
    "name": "ipython",
    "version": 3
   },
   "file_extension": ".py",
   "mimetype": "text/x-python",
   "name": "python",
   "nbconvert_exporter": "python",
   "pygments_lexer": "ipython3",
   "version": "3.8.10"
  },
  "vscode": {
   "interpreter": {
    "hash": "31f2aee4e71d21fbe5cf8b01ff0e069b9275f58929596ceb00d14d90e3e16cd6"
   }
  }
 },
 "nbformat": 4,
 "nbformat_minor": 2
}
